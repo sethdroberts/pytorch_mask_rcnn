version https://git-lfs.github.com/spec/v1
oid sha256:f1eeedb58e18da97e216cc74bba96ac83c93e02f0ad2816964b413aa9aed2a66
size 12355385
