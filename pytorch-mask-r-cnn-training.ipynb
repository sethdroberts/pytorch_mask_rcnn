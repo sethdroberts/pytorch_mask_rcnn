version https://git-lfs.github.com/spec/v1
oid sha256:47898176f843e0b5852dfbb190ef06e0c63d8dfccd6c7dd390480b7aef14ad3b
size 12355218
